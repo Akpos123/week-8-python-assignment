{
 "cells": [
  {
   "cell_type": "code",
   "execution_count": null,
   "id": "4497e4f9-0d02-422a-ac7d-ddb78cc84421",
   "metadata": {},
   "outputs": [],
   "source": [
    "\timport pandas as pd\n",
    "\t\n",
    "\t# Load CSV file\n",
    "\tdf = pd.read_csv(\"owid-covid-data.csv\")\n",
    "\t\n",
    "\t# Preview the first few rows\n",
    "\tprint(df.head())\n",
    "\n"
   ]
  },
  {
   "cell_type": "code",
   "execution_count": null,
   "id": "8f3369a9-880d-40d2-baec-8f8c1703ec9f",
   "metadata": {},
   "outputs": [],
   "source": [
    "    print(df.columns)"
   ]
  },
  {
   "cell_type": "code",
   "execution_count": null,
   "id": "f01383bf-9eac-4305-acb0-c31adcac51e5",
   "metadata": {},
   "outputs": [],
   "source": [
    "    print(df.head)"
   ]
  },
  {
   "cell_type": "code",
   "execution_count": null,
   "id": "1db9e97f-0717-4192-8bf8-07f9b858fcd0",
   "metadata": {},
   "outputs": [],
   "source": [
    "df.isnull().sum()"
   ]
  },
  {
   "cell_type": "code",
   "execution_count": null,
   "id": "77084195-348a-4ee6-8976-1ace457ab5de",
   "metadata": {},
   "outputs": [],
   "source": [
    "# Cleaning Data\n",
    "# Select specific countries (example: USA, India, Kenya)\n",
    "import pandas as pd\n",
    "df_latest = pd.read_csv('owid-covid-data.csv')\n",
    "selected_countries = [\"United States\", \"India\", \"Kenya\"]\n",
    "df_selected = df_latest[df_latest['location'].isin(selected_countries)]\n",
    "print(df_selected)\n"
   ]
  },
  {
   "cell_type": "code",
   "execution_count": null,
   "id": "978a41e2-71eb-4543-9f8c-4a82c2612294",
   "metadata": {},
   "outputs": [],
   "source": [
    "# Drop Rows with Missing Values in date Columns ans other\n",
    "import pandas as pd\n",
    "# Assuming df is your DataFrame and you want to drop rows with missing values in 'date' and 'excess_mortality_cumulative_absolute', 'excess_mortality', 'excess_mortality_cumulative_per_million', 'handwashing_facilities'\n",
    "df_cleaned = df.dropna(subset=['date', 'excess_mortality_cumulative_absolute', 'excess_mortality','excess_mortality_cumulative_per_million','handwashing_facilities','total_cases','new_cases_smoothed','total_deaths','new_deaths_smoothed'])\n",
    "print(df_cleaned)"
   ]
  },
  {
   "cell_type": "code",
   "execution_count": null,
   "id": "47a34a9c-aa8e-419c-a0be-b75194760434",
   "metadata": {},
   "outputs": [],
   "source": [
    "# Convert date column to datetime: pd.to_datetime().\n",
    "\n",
    "import pandas as pd\n",
    "date = pd.to_datetime(df['date'])\n",
    "print(date)"
   ]
  },
  {
   "cell_type": "code",
   "execution_count": null,
   "id": "6a804230-321d-4635-b7b3-054fb5740036",
   "metadata": {},
   "outputs": [],
   "source": [
    "print(df.isnull().sum())"
   ]
  },
  {
   "cell_type": "code",
   "execution_count": null,
   "id": "0f358c5c-7c6e-4448-8cb2-54104b7c1377",
   "metadata": {},
   "outputs": [],
   "source": []
  },
  {
   "cell_type": "code",
   "execution_count": null,
   "id": "5bed283b-f015-427a-9862-7ba637311c3b",
   "metadata": {},
   "outputs": [],
   "source": [
    "\n",
    "\n"
   ]
  },
  {
   "cell_type": "code",
   "execution_count": null,
   "id": "ee660f69-ac66-48b6-bf84-0a6bd61e784c",
   "metadata": {},
   "outputs": [],
   "source": [
    "# Plot Cases deaths over time\n",
    "\n",
    "import pandas as pd\n",
    "import matplotlib.pyplot as plt\n",
    "import seaborn as sns\n",
    "\n",
    "# Select countries (example: USA, India, Kenya)\n",
    "selected_countries = [\"United States\", \"India\", \"Kenya\"]\n",
    "df = pd.read_csv('owid-covid-data.csv')\n",
    "df_filtered = df[df['location'].isin(selected_countries)]\n",
    "\n",
    "# Plot the Total Cases Over Time# Plot cases over time\n",
    "plt.figure(figsize=(10, 6))\n",
    "\n",
    "for country in selected_countries:\n",
    "    country_data = df_filtered[df_filtered['location'] == country]\n",
    "    plt.plot(country_data['date'], country_data['total_cases'], label=country)\n",
    "\n",
    "# Formatting the plot\n",
    "plt.xlabel(\"Date\")\n",
    "plt.ylabel(\"Total Case\")\n",
    "plt.title(\"COVID-19 Total Cases Over Time\")\n",
    "plt.legend()\n",
    "plt.xticks(rotation=45)\n",
    "plt.grid(True)\n",
    "\n",
    "# Show the plot\n",
    "plt.show()\n"
   ]
  },
  {
   "cell_type": "code",
   "execution_count": null,
   "id": "8cd2e1e2-61cc-40c4-b7c7-d09b0ef67eff",
   "metadata": {},
   "outputs": [],
   "source": [
    "# Plot total deaths over time\n",
    "\n",
    "import pandas as pd\n",
    "import matplotlib.pyplot as plt\n",
    "import seaborn as sns\n",
    "\n",
    "# Select countries (example: USA, India, Kenya)\n",
    "selected_countries = [\"United States\", \"India\", \"Kenya\"]\n",
    "df = pd.read_csv('owid-covid-data.csv')\n",
    "df_filtered = df[df['location'].isin(selected_countries)]\n",
    "\n",
    "# Plot the Total Death Over Time# Plot death over time\n",
    "plt.figure(figsize=(10, 6))\n",
    "\n",
    "for country in selected_countries:\n",
    "    country_data = df_filtered[df_filtered['location'] == country]\n",
    "    plt.plot(country_data['date'], country_data['total_deaths'], label=country)\n",
    "\n",
    "# Formatting the plot\n",
    "plt.xlabel(\"Date\")\n",
    "plt.ylabel(\"Total Deaths\")\n",
    "plt.title(\"COVID-19 Total Deaths Over Time\")\n",
    "plt.legend()\n",
    "plt.xticks(rotation=45)\n",
    "plt.grid(True)\n",
    "\n",
    "# Show the plot\n",
    "plt.show()\n"
   ]
  },
  {
   "cell_type": "code",
   "execution_count": null,
   "id": "4d19a6b9-3979-4514-9e8d-8c38f2680bd2",
   "metadata": {},
   "outputs": [],
   "source": [
    "# Total death over time\n",
    "\n",
    "import matplotlib.pyplot as plt\n",
    "import seaborn as sns\n",
    "\n",
    "# Select countries (example: USA, India, Kenya)\n",
    "selected_countries = [\"United States\", \"India\", \"Kenya\"]\n",
    "df = pd.read_csv('owid-covid-data.csv')\n",
    "df_filtered = df[df['location'].isin(selected_countries)]\n",
    "\n",
    "# Plot the Total Death Over Time# Plot death over time\n",
    "plt.figure(figsize=(10, 6))\n",
    "\n",
    "for country in selected_countries:\n",
    "    country_data = df_filtered[df_filtered['location'] == country]\n",
    "    plt.plot(country_data['date'], country_data['total_deaths'], label=country)\n",
    "\n",
    "# Formatting the plot\n",
    "plt.xlabel(\"Date\")\n",
    "plt.ylabel(\"Total Deaths\")\n",
    "plt.title(\"COVID-19 Total Deaths Over Time\")\n",
    "plt.legend()\n",
    "plt.xticks(rotation=45)\n",
    "plt.grid(True)\n",
    "\n",
    "# Show the plot\n",
    "plt.show()\n",
    "\n",
    "\n"
   ]
  },
  {
   "cell_type": "code",
   "execution_count": null,
   "id": "f6bbc60b-649f-48b6-b531-4f61fa66f059",
   "metadata": {},
   "outputs": [],
   "source": [
    "#Plot cumulative vaccinations over time for selected countries.\n",
    "\n",
    "import pandas as pd\n",
    "import matplotlib.pyplot as plt\n",
    "import seaborn as sns\n",
    "\n",
    "# Select countries (example: USA, India, Kenya)\n",
    "selected_countries = [\"United States\", \"India\", \"Kenya\"]\n",
    "df_filtered = df[df['location'].isin(selected_countries)]\n",
    "# Plot cumulative vaccinations for each country\n",
    "for country in selected_countries:\n",
    "    country_data = df_filtered[df_filtered['location'] == country]\n",
    "    plt.plot(country_data['date'], country_data['total_vaccinations'], label=country)\n",
    "\n",
    "# Formatting the plot\n",
    "plt.xlabel(\"Date\")\n",
    "plt.ylabel(\"Total Vaccinations\")\n",
    "plt.title(\"COVID-19 Cumulative Vaccinations Over Time\")\n",
    "plt.legend()\n",
    "plt.xticks(rotation=180)\n",
    "plt.grid(True)\n",
    "\n",
    "# Show the plot\n",
    "plt.show()\n"
   ]
  },
  {
   "cell_type": "markdown",
   "id": "6a126faa-50ed-4e0b-9fc2-454f3ec61512",
   "metadata": {},
   "source": [
    "The India is the  country had the fastest vaccine rollout from the plot, and Kenya has the lowest."
   ]
  },
  {
   "cell_type": "code",
   "execution_count": null,
   "id": "a6cf1c02-28a6-499a-b3ce-21dca743cc11",
   "metadata": {},
   "outputs": [],
   "source": []
  },
  {
   "cell_type": "code",
   "execution_count": null,
   "id": "34ba3eb8-998a-4bf0-9cd8-20f1d18e1fa2",
   "metadata": {},
   "outputs": [],
   "source": []
  }
 ],
 "metadata": {
  "kernelspec": {
   "display_name": "anaconda-panel-2023.05-py310",
   "language": "python",
   "name": "conda-env-anaconda-panel-2023.05-py310-py"
  },
  "language_info": {
   "codemirror_mode": {
    "name": "ipython",
    "version": 3
   },
   "file_extension": ".py",
   "mimetype": "text/x-python",
   "name": "python",
   "nbconvert_exporter": "python",
   "pygments_lexer": "ipython3",
   "version": "3.11.5"
  }
 },
 "nbformat": 4,
 "nbformat_minor": 5
}
